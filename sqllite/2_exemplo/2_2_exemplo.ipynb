{
 "cells": [
  {
   "cell_type": "code",
   "execution_count": 1,
   "metadata": {},
   "outputs": [],
   "source": [
    "import sqlite3\n",
    "\n",
    "def create_tables():\n",
    "    sql_statements = [ \n",
    "        \"\"\"CREATE TABLE IF NOT EXISTS projects (\n",
    "                id INTEGER PRIMARY KEY, \n",
    "                name text NOT NULL, \n",
    "                begin_date TEXT, \n",
    "                end_date TEXT\n",
    "        );\"\"\",\n",
    "        \"\"\"CREATE TABLE IF NOT EXISTS tasks (\n",
    "                id INTEGER PRIMARY KEY, \n",
    "                name TEXT NOT NULL, \n",
    "                priority INT, \n",
    "                project_id INT NOT NULL, \n",
    "                status_id INT NOT NULL, \n",
    "                begin_date TEXT NOT NULL, \n",
    "                end_date TEXT NOT NULL, \n",
    "                FOREIGN KEY (project_id) REFERENCES projects (id)\n",
    "        );\"\"\"]\n",
    "\n",
    "    # create a database connection\n",
    "    try:\n",
    "        with sqlite3.connect('my.db') as conn:\n",
    "            cursor = conn.cursor()\n",
    "            for statement in sql_statements:\n",
    "                cursor.execute(statement)\n",
    "            \n",
    "            conn.commit()\n",
    "    except sqlite3.Error as e:\n",
    "        print(e)\n",
    "\n",
    "\n",
    "if __name__ == '__main__':\n",
    "    create_tables()"
   ]
  }
 ],
 "metadata": {
  "kernelspec": {
   "display_name": "Python 3",
   "language": "python",
   "name": "python3"
  },
  "language_info": {
   "codemirror_mode": {
    "name": "ipython",
    "version": 3
   },
   "file_extension": ".py",
   "mimetype": "text/x-python",
   "name": "python",
   "nbconvert_exporter": "python",
   "pygments_lexer": "ipython3",
   "version": "3.10.7"
  }
 },
 "nbformat": 4,
 "nbformat_minor": 2
}
