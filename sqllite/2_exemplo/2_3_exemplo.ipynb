{
 "cells": [
  {
   "cell_type": "code",
   "execution_count": 1,
   "metadata": {},
   "outputs": [
    {
     "name": "stdout",
     "output_type": "stream",
     "text": [
      "Created a project with the id 1\n",
      "Created a project with the id 1\n",
      "Created a project with the id 2\n"
     ]
    }
   ],
   "source": [
    "import sqlite3\n",
    "\n",
    "def add_project(conn, project):\n",
    "    sql = ''' INSERT INTO projects(name,begin_date,end_date)\n",
    "              VALUES(?,?,?) '''\n",
    "    cur = conn.cursor()\n",
    "    cur.execute(sql, project)\n",
    "    conn.commit()\n",
    "    return cur.lastrowid\n",
    "\n",
    "\n",
    "def add_task(conn, task):\n",
    "    sql = '''INSERT INTO tasks(name,priority,status_id,project_id,begin_date,end_date)\n",
    "             VALUES(?,?,?,?,?,?) '''\n",
    "    cur = conn.cursor()\n",
    "    cur.execute(sql, task)\n",
    "    conn.commit()\n",
    "    return cur.lastrowid\n",
    "\n",
    "\n",
    "def main():\n",
    "    try:\n",
    "        with sqlite3.connect('my.db') as conn:\n",
    "            # add a new project\n",
    "            project = ('Cool App with SQLite & Python', '2015-01-01', '2015-01-30')\n",
    "            project_id = add_project(conn, project)\n",
    "            print(f'Created a project with the id {project_id}')\n",
    "\n",
    "            # tasks\n",
    "            tasks = [\n",
    "                ('Analyze the requirements of the app', 1, 1, project_id, '2015-01-01', '2015-01-02'),\n",
    "                ('Confirm with user about the top requirements', 1, 1, project_id, '2015-01-03', '2015-01-05')\n",
    "            ]\n",
    "            for task in tasks:\n",
    "                task_id = add_task(conn, task)\n",
    "                print(f'Created a project with the id {task_id}')\n",
    "\n",
    "\n",
    "    except sqlite3.Error as e:\n",
    "        print(e)\n",
    "\n",
    "if __name__ == '__main__':\n",
    "    main()"
   ]
  }
 ],
 "metadata": {
  "kernelspec": {
   "display_name": "Python 3",
   "language": "python",
   "name": "python3"
  },
  "language_info": {
   "codemirror_mode": {
    "name": "ipython",
    "version": 3
   },
   "file_extension": ".py",
   "mimetype": "text/x-python",
   "name": "python",
   "nbconvert_exporter": "python",
   "pygments_lexer": "ipython3",
   "version": "3.10.7"
  }
 },
 "nbformat": 4,
 "nbformat_minor": 2
}
