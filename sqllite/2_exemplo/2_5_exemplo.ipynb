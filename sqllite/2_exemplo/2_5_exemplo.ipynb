{
 "cells": [
  {
   "cell_type": "markdown",
   "metadata": {},
   "source": [
    "How to query data from a table in Python"
   ]
  },
  {
   "cell_type": "code",
   "execution_count": 1,
   "metadata": {},
   "outputs": [
    {
     "name": "stdout",
     "output_type": "stream",
     "text": [
      "(1, 'Analyze the requirements of the app', 3, 1, 2, '2015-01-01', '2015-01-02')\n",
      "(2, 'Confirm with user about the top requirements', 1, 1, 1, '2015-01-03', '2015-01-05')\n"
     ]
    }
   ],
   "source": [
    "import sqlite3\n",
    "\n",
    "conn = sqlite3.connect('my.db')\n",
    "cur = conn.cursor()\n",
    "cur.execute('SELECT * FROM tasks')\n",
    "rows = cur.fetchall()\n",
    "conn.close()\n",
    "for row in rows:\n",
    "   print(row)"
   ]
  },
  {
   "cell_type": "code",
   "execution_count": 2,
   "metadata": {},
   "outputs": [
    {
     "name": "stdout",
     "output_type": "stream",
     "text": [
      "(1, 'Analyze the requirements of the app', 3, 1, 2, '2015-01-01', '2015-01-02')\n",
      "(2, 'Confirm with user about the top requirements', 1, 1, 1, '2015-01-03', '2015-01-05')\n"
     ]
    }
   ],
   "source": [
    "import sqlite3\n",
    "\n",
    "with sqlite3.connect('my.db') as conn:\n",
    "    cur = conn.cursor()\n",
    "    cur.execute('SELECT * FROM tasks')\n",
    "    rows = cur.fetchall()\n",
    "    for row in rows:\n",
    "        print(row)"
   ]
  },
  {
   "cell_type": "code",
   "execution_count": 3,
   "metadata": {},
   "outputs": [
    {
     "name": "stdout",
     "output_type": "stream",
     "text": [
      "no such table: sample_table\n"
     ]
    }
   ],
   "source": [
    "import sqlite3\n",
    "\n",
    "try:\n",
    "    with sqlite3.connect('my.db') as conn:\n",
    "        cur = conn.cursor()\n",
    "        cur.execute('SELECT * FROM sample_table')\n",
    "        rows = cur.fetchall()\n",
    "        for row in rows:\n",
    "            print(row)\n",
    "except sqlite3.Error as e:\n",
    "    print(e)"
   ]
  },
  {
   "cell_type": "code",
   "execution_count": 4,
   "metadata": {},
   "outputs": [
    {
     "name": "stdout",
     "output_type": "stream",
     "text": [
      "(1, 'Analyze the requirements of the app', 3)\n",
      "(2, 'Confirm with user about the top requirements', 1)\n"
     ]
    }
   ],
   "source": [
    "import sqlite3\n",
    "\n",
    "try:\n",
    "    with sqlite3.connect('my.db') as conn:\n",
    "        cur = conn.cursor()\n",
    "        cur.execute('select id, name, priority from tasks')\n",
    "        rows = cur.fetchall()\n",
    "        for row in rows:\n",
    "            print(row)\n",
    "except sqlite3.Error as e:\n",
    "    print(e)"
   ]
  },
  {
   "cell_type": "code",
   "execution_count": 5,
   "metadata": {},
   "outputs": [
    {
     "name": "stdout",
     "output_type": "stream",
     "text": [
      "(1, 'Analyze the requirements of the app', 3)\n"
     ]
    }
   ],
   "source": [
    "import sqlite3\n",
    "\n",
    "try:\n",
    "    with sqlite3.connect('my.db') as conn:\n",
    "        cur = conn.cursor()\n",
    "        cur.execute('select id, name, priority from tasks where id =?', (1,))\n",
    "        row = cur.fetchone()\n",
    "        if row:\n",
    "            print(row)\n",
    "except sqlite3.Error as e:\n",
    "    print(e)"
   ]
  },
  {
   "cell_type": "code",
   "execution_count": 6,
   "metadata": {},
   "outputs": [
    {
     "name": "stdout",
     "output_type": "stream",
     "text": [
      "(1, 'Analyze the requirements of the app', 3)\n"
     ]
    }
   ],
   "source": [
    "import sqlite3\n",
    "\n",
    "def get_task_by_id(id):\n",
    "    try:\n",
    "        with sqlite3.connect('my.db') as conn:\n",
    "            cur = conn.cursor()\n",
    "            cur.execute('select id, name, priority from tasks where id =?', (id,))\n",
    "            row = cur.fetchone()\n",
    "            return row\n",
    "    except sqlite3.Error as e:\n",
    "        print(e)\n",
    "        return None      \n",
    "\n",
    "if __name__ == '__main__':\n",
    "    task = get_task_by_id(1)\n",
    "    print(task)"
   ]
  },
  {
   "cell_type": "markdown",
   "metadata": {},
   "source": [
    "- Use the fetchall() method of the cursor object to return all rows of a query.\n",
    "- Use the fetchone() method to return the next row returned by a query.\n",
    "- Use the fetchmany() method to return some rows from a query."
   ]
  }
 ],
 "metadata": {
  "kernelspec": {
   "display_name": "Python 3",
   "language": "python",
   "name": "python3"
  },
  "language_info": {
   "codemirror_mode": {
    "name": "ipython",
    "version": 3
   },
   "file_extension": ".py",
   "mimetype": "text/x-python",
   "name": "python",
   "nbconvert_exporter": "python",
   "pygments_lexer": "ipython3",
   "version": "3.10.7"
  }
 },
 "nbformat": 4,
 "nbformat_minor": 2
}
