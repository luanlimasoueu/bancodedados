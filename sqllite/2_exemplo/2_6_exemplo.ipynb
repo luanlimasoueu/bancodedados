{
 "cells": [
  {
   "cell_type": "markdown",
   "metadata": {},
   "source": [
    "Deleting Data"
   ]
  },
  {
   "cell_type": "code",
   "execution_count": 1,
   "metadata": {},
   "outputs": [],
   "source": [
    "import sqlite3\n",
    "\n",
    "try:\n",
    "    with sqlite3.connect('my.db') as conn:\n",
    "        cur = conn.cursor()\n",
    "        delete_stmt = 'DELETE FROM tasks WHERE id = ?'\n",
    "        cur.execute(delete_stmt, (1,))\n",
    "        conn.commit()\n",
    "except sqlite3.Error as e:\n",
    "    print(e)"
   ]
  }
 ],
 "metadata": {
  "kernelspec": {
   "display_name": "Python 3",
   "language": "python",
   "name": "python3"
  },
  "language_info": {
   "codemirror_mode": {
    "name": "ipython",
    "version": 3
   },
   "file_extension": ".py",
   "mimetype": "text/x-python",
   "name": "python",
   "nbconvert_exporter": "python",
   "pygments_lexer": "ipython3",
   "version": "3.10.7"
  }
 },
 "nbformat": 4,
 "nbformat_minor": 2
}
