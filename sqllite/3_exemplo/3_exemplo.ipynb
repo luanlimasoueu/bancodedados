{
 "cells": [
  {
   "cell_type": "code",
   "execution_count": 4,
   "metadata": {},
   "outputs": [
    {
     "ename": "IntegrityError",
     "evalue": "UNIQUE constraint failed: usuarios.email",
     "output_type": "error",
     "traceback": [
      "\u001b[1;31m---------------------------------------------------------------------------\u001b[0m",
      "\u001b[1;31mIntegrityError\u001b[0m                            Traceback (most recent call last)",
      "Cell \u001b[1;32mIn[4], line 20\u001b[0m\n\u001b[0;32m     10\u001b[0m cursor\u001b[38;5;241m.\u001b[39mexecute(\u001b[38;5;124m\"\"\"\u001b[39m\n\u001b[0;32m     11\u001b[0m \u001b[38;5;124mCREATE TABLE IF NOT EXISTS usuarios (\u001b[39m\n\u001b[0;32m     12\u001b[0m \u001b[38;5;124m    id INTEGER PRIMARY KEY AUTOINCREMENT,\u001b[39m\n\u001b[1;32m   (...)\u001b[0m\n\u001b[0;32m     16\u001b[0m \u001b[38;5;124m)\u001b[39m\n\u001b[0;32m     17\u001b[0m \u001b[38;5;124m\"\"\"\u001b[39m)\n\u001b[0;32m     19\u001b[0m \u001b[38;5;66;03m# Inserir dados na tabela\u001b[39;00m\n\u001b[1;32m---> 20\u001b[0m \u001b[43mcursor\u001b[49m\u001b[38;5;241;43m.\u001b[39;49m\u001b[43mexecute\u001b[49m\u001b[43m(\u001b[49m\u001b[38;5;124;43m\"\u001b[39;49m\u001b[38;5;124;43mINSERT INTO usuarios (nome, idade, email) VALUES (?, ?, ?)\u001b[39;49m\u001b[38;5;124;43m\"\u001b[39;49m\u001b[43m,\u001b[49m\u001b[43m \u001b[49m\n\u001b[0;32m     21\u001b[0m \u001b[43m               \u001b[49m\u001b[43m(\u001b[49m\u001b[38;5;124;43m\"\u001b[39;49m\u001b[38;5;124;43mAlice\u001b[39;49m\u001b[38;5;124;43m\"\u001b[39;49m\u001b[43m,\u001b[49m\u001b[43m \u001b[49m\u001b[38;5;241;43m25\u001b[39;49m\u001b[43m,\u001b[49m\u001b[43m \u001b[49m\u001b[38;5;124;43m\"\u001b[39;49m\u001b[38;5;124;43malice@email.com\u001b[39;49m\u001b[38;5;124;43m\"\u001b[39;49m\u001b[43m)\u001b[49m\u001b[43m)\u001b[49m\n\u001b[0;32m     22\u001b[0m cursor\u001b[38;5;241m.\u001b[39mexecute(\u001b[38;5;124m\"\u001b[39m\u001b[38;5;124mINSERT INTO usuarios (nome, idade, email) VALUES (?, ?, ?)\u001b[39m\u001b[38;5;124m\"\u001b[39m, \n\u001b[0;32m     23\u001b[0m                (\u001b[38;5;124m\"\u001b[39m\u001b[38;5;124mBob\u001b[39m\u001b[38;5;124m\"\u001b[39m, \u001b[38;5;241m30\u001b[39m, \u001b[38;5;124m\"\u001b[39m\u001b[38;5;124mbob@email.com\u001b[39m\u001b[38;5;124m\"\u001b[39m))\n\u001b[0;32m     25\u001b[0m \u001b[38;5;66;03m# Confirmar as alterações\u001b[39;00m\n",
      "\u001b[1;31mIntegrityError\u001b[0m: UNIQUE constraint failed: usuarios.email"
     ]
    }
   ],
   "source": [
    "import sqlite3\n",
    "\n",
    "# Conectar ao banco de dados (ou criar um novo se não existir)\n",
    "conn = sqlite3.connect(\"meu_banco.db\")\n",
    "\n",
    "# Criar um cursor para executar comandos SQL\n",
    "cursor = conn.cursor()\n",
    "\n",
    "# Criar uma tabela chamada \"usuarios\"\n",
    "cursor.execute(\"\"\"\n",
    "CREATE TABLE IF NOT EXISTS usuarios (\n",
    "    id INTEGER PRIMARY KEY AUTOINCREMENT,\n",
    "    nome TEXT NOT NULL,\n",
    "    idade INTEGER,\n",
    "    email TEXT UNIQUE NOT NULL\n",
    ")\n",
    "\"\"\")\n",
    "\n",
    "# Inserir dados na tabela\n",
    "cursor.execute(\"INSERT INTO usuarios (nome, idade, email) VALUES (?, ?, ?)\", \n",
    "               (\"Alice\", 25, \"alice@email.com\"))\n",
    "cursor.execute(\"INSERT INTO usuarios (nome, idade, email) VALUES (?, ?, ?)\", \n",
    "               (\"Bob\", 30, \"bob@email.com\"))\n",
    "\n",
    "# Confirmar as alterações\n",
    "conn.commit()\n",
    "\n",
    "# Consultar os dados inseridos\n",
    "cursor.execute(\"SELECT * FROM usuarios\")\n",
    "usuarios = cursor.fetchall()\n",
    "\n",
    "# Exibir os dados\n",
    "for usuario in usuarios:\n",
    "    print(usuario)\n",
    "\n",
    "# Fechar a conexão\n",
    "conn.close()"
   ]
  },
  {
   "cell_type": "code",
   "execution_count": 5,
   "metadata": {},
   "outputs": [
    {
     "data": {
      "text/plain": [
       "<sqlite3.Cursor at 0x2b2129da5c0>"
      ]
     },
     "execution_count": 5,
     "metadata": {},
     "output_type": "execute_result"
    }
   ],
   "source": [
    "conn = sqlite3.connect(\"meu_banco.db\")\n",
    "\n",
    "# Criar um cursor para executar comandos SQL\n",
    "cursor = conn.cursor()\n",
    "\n",
    "cursor.execute(\"SELECT * FROM usuarios\")"
   ]
  },
  {
   "cell_type": "code",
   "execution_count": 7,
   "metadata": {},
   "outputs": [],
   "source": [
    "usuarios = cursor.fetchall()"
   ]
  },
  {
   "cell_type": "code",
   "execution_count": 8,
   "metadata": {},
   "outputs": [
    {
     "data": {
      "text/plain": [
       "[(1, 'Alice', 25, 'alice@email.com'), (2, 'Bob', 30, 'bob@email.com')]"
      ]
     },
     "execution_count": 8,
     "metadata": {},
     "output_type": "execute_result"
    }
   ],
   "source": [
    "usuarios"
   ]
  }
 ],
 "metadata": {
  "kernelspec": {
   "display_name": "Python 3",
   "language": "python",
   "name": "python3"
  },
  "language_info": {
   "codemirror_mode": {
    "name": "ipython",
    "version": 3
   },
   "file_extension": ".py",
   "mimetype": "text/x-python",
   "name": "python",
   "nbconvert_exporter": "python",
   "pygments_lexer": "ipython3",
   "version": "3.10.7"
  }
 },
 "nbformat": 4,
 "nbformat_minor": 2
}
